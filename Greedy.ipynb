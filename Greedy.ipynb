{
 "cells": [
  {
   "cell_type": "markdown",
   "id": "d583e04a",
   "metadata": {},
   "source": [
    "## Maximum Subarray\n",
    "\n",
    "* https://leetcode.com/problems/maximum-subarray/\n",
    "***\n",
    "* Time Complexity: O(n)\n",
    "    - must traverse through the entire array to figure out the max\n",
    "* Space Complexity: O(1)\n",
    "    - only 2 variables are created and used. no recursion used either\n",
    "***\n",
    "* basically you keep a running max and another max that is the highest one you've seen\n",
    "    - you update the running max as you move along with the current index in mind and then you see if that running max is the biggest you've seen so far and update accordingly"
   ]
  },
  {
   "cell_type": "code",
   "execution_count": 1,
   "id": "9d1fa586",
   "metadata": {},
   "outputs": [],
   "source": [
    "/**\n",
    " * @param {number[]} nums\n",
    " * @return {number}\n",
    " */\n",
    "var maxSubArray = function(nums) {\n",
    "    if (nums.length === 1) return nums[0];\n",
    "    \n",
    "    let max = nums[0];\n",
    "    let runningMax = nums[0];\n",
    "    \n",
    "    for (let i = 1; i < nums.length; i++) {\n",
    "        runningMax = Math.max(nums[i] + runningMax, nums[i]);\n",
    "        max = Math.max(max, runningMax);\n",
    "    }\n",
    "    \n",
    "    return max;\n",
    "};"
   ]
  },
  {
   "cell_type": "markdown",
   "id": "b118afca",
   "metadata": {},
   "source": [
    "## Jump Game\n",
    "\n",
    "* https://leetcode.com/problems/jump-game/\n",
    "***\n",
    "* Time Complexity: O(n)\n",
    "    - just traverses through the array once\n",
    "* Space Complexity: O(1)\n",
    "    - only keeps a couple of variables\n",
    "***\n",
    "* similar structure to Kadane's algorithm\n",
    "* my thought process:\n",
    "    - as long as you can continue traversing through the array, you can move to the last index\n",
    "    - so as long as your max steps > 0, then you can continue walking\n",
    "    - so through each iteration\n",
    "        * we subtract the max to simulate walking to the next index\n",
    "        * we compare the current max with the number of steps at this index and we take whichever one is larger since it'll give us the best chance to continue walking towards the end\n",
    "        * if our max steps ever reaches 0, then we've exhausted all of our steps and cannot reach the last index"
   ]
  },
  {
   "cell_type": "code",
   "execution_count": 1,
   "id": "f33b914c",
   "metadata": {},
   "outputs": [],
   "source": [
    "/**\n",
    " * @param {number[]} nums\n",
    " * @return {boolean}\n",
    " */\n",
    "var canJump = function(nums) {\n",
    "  // since you start at the first index,\n",
    "  // if steps = 0, you might not reach your goal\n",
    "  // unless you have something like nums = [0]\n",
    "  if (nums[0] === 0) return nums.length === 1;\n",
    "\n",
    "  // initialized with first item in array\n",
    "  let max = nums[0];\n",
    "  for (let i = 1; i < nums.length - 1; i++) {\n",
    "    // this is where we make our step\n",
    "    max--;\n",
    "\n",
    "    max = Math.max(max, nums[i]);\n",
    "\n",
    "    // as long as we can keep moving forward, we can reach\n",
    "    // the last index, so as long as max = 1\n",
    "    if (max <= 0) return false;\n",
    "\n",
    "  }\n",
    "\n",
    "  return true;\n",
    "};"
   ]
  },
  {
   "cell_type": "code",
   "execution_count": null,
   "id": "921c096d",
   "metadata": {},
   "outputs": [],
   "source": []
  },
  {
   "cell_type": "code",
   "execution_count": null,
   "id": "f2c70947",
   "metadata": {},
   "outputs": [],
   "source": []
  },
  {
   "cell_type": "code",
   "execution_count": null,
   "id": "c7888678",
   "metadata": {},
   "outputs": [],
   "source": []
  }
 ],
 "metadata": {
  "kernelspec": {
   "display_name": "JavaScript (Node.js)",
   "language": "javascript",
   "name": "javascript"
  },
  "language_info": {
   "file_extension": ".js",
   "mimetype": "application/javascript",
   "name": "javascript",
   "version": "16.14.2"
  }
 },
 "nbformat": 4,
 "nbformat_minor": 5
}

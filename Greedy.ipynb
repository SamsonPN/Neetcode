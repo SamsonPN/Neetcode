{
 "cells": [
  {
   "cell_type": "markdown",
   "id": "d583e04a",
   "metadata": {},
   "source": [
    "## Maximum Subarray\n",
    "\n",
    "* https://leetcode.com/problems/maximum-subarray/\n",
    "***\n",
    "* Time Complexity: O(n)\n",
    "    - must traverse through the entire array to figure out the max\n",
    "* Space Complexity: O(1)\n",
    "    - only 2 variables are created and used. no recursion used either\n",
    "***\n",
    "* basically you keep a running max and another max that is the highest one you've seen\n",
    "    - you update the running max as you move along with the current index in mind and then you see if that running max is the biggest you've seen so far and update accordingly"
   ]
  },
  {
   "cell_type": "code",
   "execution_count": 1,
   "id": "9d1fa586",
   "metadata": {},
   "outputs": [],
   "source": [
    "/**\n",
    " * @param {number[]} nums\n",
    " * @return {number}\n",
    " */\n",
    "var maxSubArray = function(nums) {\n",
    "    if (nums.length === 1) return nums[0];\n",
    "    \n",
    "    let max = nums[0];\n",
    "    let runningMax = nums[0];\n",
    "    \n",
    "    for (let i = 1; i < nums.length; i++) {\n",
    "        runningMax = Math.max(nums[i] + runningMax, nums[i]);\n",
    "        max = Math.max(max, runningMax);\n",
    "    }\n",
    "    \n",
    "    return max;\n",
    "};"
   ]
  },
  {
   "cell_type": "code",
   "execution_count": null,
   "id": "0a995337",
   "metadata": {},
   "outputs": [],
   "source": []
  },
  {
   "cell_type": "code",
   "execution_count": null,
   "id": "f33b914c",
   "metadata": {},
   "outputs": [],
   "source": []
  },
  {
   "cell_type": "code",
   "execution_count": null,
   "id": "921c096d",
   "metadata": {},
   "outputs": [],
   "source": []
  },
  {
   "cell_type": "code",
   "execution_count": null,
   "id": "f2c70947",
   "metadata": {},
   "outputs": [],
   "source": []
  },
  {
   "cell_type": "code",
   "execution_count": null,
   "id": "c7888678",
   "metadata": {},
   "outputs": [],
   "source": []
  }
 ],
 "metadata": {
  "kernelspec": {
   "display_name": "JavaScript (Node.js)",
   "language": "javascript",
   "name": "javascript"
  },
  "language_info": {
   "file_extension": ".js",
   "mimetype": "application/javascript",
   "name": "javascript",
   "version": "16.14.2"
  }
 },
 "nbformat": 4,
 "nbformat_minor": 5
}

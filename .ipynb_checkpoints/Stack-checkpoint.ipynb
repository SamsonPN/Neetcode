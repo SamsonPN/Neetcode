{
 "cells": [
  {
   "cell_type": "markdown",
   "id": "cf057a1a",
   "metadata": {},
   "source": [
    "## Valid Parentheses\n",
    "\n",
    "* https://leetcode.com/problems/valid-parentheses/\n",
    "***\n",
    "* Time Complexity: O(n)\n",
    "    - have to traverse through the entire string in order to determine if it's valid\n",
    "* Space Complexity: O(n)\n",
    "    - on average, you'll probably add n/2 elements into the stack and in the worst case scenario in which the whole string is open brackets, it'll have n elements\n",
    "***\n",
    "* when you want to look at the last thing that happened, like what was the last open parentheses, in order, use a stack\n",
    "    - LIFO order\n",
    "    - helps reverse things and looks at a timeline of most recent --> oldest\n",
    "* in our case, we want to know what the most recent open bracket was added so we can simply pop from the stack and compare it to the current closing bracket"
   ]
  },
  {
   "cell_type": "code",
   "execution_count": 1,
   "id": "f25e9fe2",
   "metadata": {},
   "outputs": [],
   "source": [
    "/**\n",
    " * @param {string} s\n",
    " * @return {boolean}\n",
    " */\n",
    "var isValid = function(s) {\n",
    "    if (s.length === 1) return false;\n",
    "    \n",
    "    const closingBracket = {\n",
    "        '(' : ')',\n",
    "        '{' : '}',\n",
    "        '[' : ']'\n",
    "    };\n",
    "    \n",
    "    const stack = [];\n",
    "    \n",
    "    for (let i = 0; i < s.length; i++) {\n",
    "        let bracket = s[i];\n",
    "        \n",
    "        if (bracket === '(' || bracket === '{' || bracket === '[') {\n",
    "            stack.push(bracket);\n",
    "        }\n",
    "        else {\n",
    "            let lastOpen = stack.pop();\n",
    "            if (closingBracket[lastOpen] !== bracket) return false;\n",
    "        }\n",
    "    }\n",
    "    \n",
    "    return stack.length === 0;\n",
    "};"
   ]
  },
  {
   "cell_type": "markdown",
   "id": "c4999814",
   "metadata": {},
   "source": [
    "## Min Stack\n",
    "\n",
    "* https://leetcode.com/problems/min-stack/\n",
    "***\n",
    "* Time Complexity of getMin(): O(1)\n",
    "    - we keep track of the the most recent minimum to the oldest minimum so all we have to do is return the last item in the min stack which is O(1)\n",
    "* Space Complexity: O(n)\n",
    "    - since we add elements into the min stack, we'll have at most O(n) elements since if the elements are in descending order, you'll be adding all elements into the stack\n",
    "***\n",
    "* like with the Valid Parentheses problem, we want to look at the current minimum but also the minimums that were added BEFORE as well\n",
    "    - this is b/c if you pop the latest minimum from the stack, then you'll be able to know the minimum that was added before it\n",
    "    - so if you added -2, 0, -3 and popped -3, the latest minimum is -2.\n",
    "    - using just 1 variable to keep track of it would not work!"
   ]
  },
  {
   "cell_type": "code",
   "execution_count": 8,
   "id": "11475337",
   "metadata": {},
   "outputs": [
    {
     "data": {
      "text/plain": [
       "[Function (anonymous)]"
      ]
     },
     "execution_count": 8,
     "metadata": {},
     "output_type": "execute_result"
    }
   ],
   "source": [
    "\n",
    "var MinStack = function() {\n",
    "    this.min = [];\n",
    "    this.stack = [];\n",
    "};\n",
    "\n",
    "/** \n",
    " * @param {number} val\n",
    " * @return {void}\n",
    " */\n",
    "MinStack.prototype.push = function(val) {\n",
    "    this.stack.push(val);\n",
    "    \n",
    "    if (this.min.length === 0) {\n",
    "        this.min.push(val);\n",
    "    }\n",
    "    else if (val <= this.min[this.min.length - 1]) {\n",
    "        this.min.push(val);\n",
    "    }\n",
    "};\n",
    "\n",
    "/**\n",
    " * @return {void}\n",
    " */\n",
    "MinStack.prototype.pop = function() {\n",
    "    const retVal = this.stack.pop();\n",
    "    if (retVal === this.min[this.min.length - 1]) this.min.pop();\n",
    "    return retVal;\n",
    "};\n",
    "\n",
    "/**\n",
    " * @return {number}\n",
    " */\n",
    "MinStack.prototype.top = function() {\n",
    "    return this.stack[this.stack.length - 1]; \n",
    "};\n",
    "\n",
    "/**\n",
    " * @return {number}\n",
    " */\n",
    "MinStack.prototype.getMin = function() {\n",
    "    return this.min[this.min.length - 1];\n",
    "};\n",
    "\n",
    "/** \n",
    " * Your MinStack object will be instantiated and called as such:\n",
    " * var obj = new MinStack()\n",
    " * obj.push(val)\n",
    " * obj.pop()\n",
    " * var param_3 = obj.top()\n",
    " * var param_4 = obj.getMin()\n",
    " */"
   ]
  },
  {
   "cell_type": "code",
   "execution_count": null,
   "id": "77c07fda",
   "metadata": {},
   "outputs": [],
   "source": []
  },
  {
   "cell_type": "code",
   "execution_count": null,
   "id": "ab2fe632",
   "metadata": {},
   "outputs": [],
   "source": []
  },
  {
   "cell_type": "code",
   "execution_count": null,
   "id": "02cc5afd",
   "metadata": {},
   "outputs": [],
   "source": []
  },
  {
   "cell_type": "code",
   "execution_count": null,
   "id": "89f9e436",
   "metadata": {},
   "outputs": [],
   "source": []
  }
 ],
 "metadata": {
  "kernelspec": {
   "display_name": "JavaScript (Node.js)",
   "language": "javascript",
   "name": "javascript"
  },
  "language_info": {
   "file_extension": ".js",
   "mimetype": "application/javascript",
   "name": "javascript",
   "version": "16.14.2"
  }
 },
 "nbformat": 4,
 "nbformat_minor": 5
}

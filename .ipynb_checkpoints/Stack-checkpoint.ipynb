{
 "cells": [
  {
   "cell_type": "markdown",
   "id": "3b9839d6",
   "metadata": {},
   "source": [
    "# Easy"
   ]
  },
  {
   "cell_type": "markdown",
   "id": "cf057a1a",
   "metadata": {},
   "source": [
    "## Valid Parentheses\n",
    "\n",
    "* https://leetcode.com/problems/valid-parentheses/\n",
    "***\n",
    "* Time Complexity: O(n)\n",
    "    - have to traverse through the entire string in order to determine if it's valid\n",
    "* Space Complexity: O(n)\n",
    "    - on average, you'll probably add n/2 elements into the stack and in the worst case scenario in which the whole string is open brackets, it'll have n elements\n",
    "***\n",
    "* when you want to look at the last thing that happened, like what was the last open parentheses, in order, use a stack\n",
    "    - LIFO order\n",
    "    - helps reverse things and looks at a timeline of most recent --> oldest\n",
    "* in our case, we want to know what the most recent open bracket was added so we can simply pop from the stack and compare it to the current closing bracket"
   ]
  },
  {
   "cell_type": "code",
   "execution_count": 1,
   "id": "f25e9fe2",
   "metadata": {},
   "outputs": [],
   "source": [
    "/**\n",
    " * @param {string} s\n",
    " * @return {boolean}\n",
    " */\n",
    "var isValid = function(s) {\n",
    "    if (s.length === 1) return false;\n",
    "    \n",
    "    const closingBracket = {\n",
    "        '(' : ')',\n",
    "        '{' : '}',\n",
    "        '[' : ']'\n",
    "    };\n",
    "    \n",
    "    const stack = [];\n",
    "    \n",
    "    for (let i = 0; i < s.length; i++) {\n",
    "        let bracket = s[i];\n",
    "        \n",
    "        if (bracket === '(' || bracket === '{' || bracket === '[') {\n",
    "            stack.push(bracket);\n",
    "        }\n",
    "        else {\n",
    "            let lastOpen = stack.pop();\n",
    "            if (closingBracket[lastOpen] !== bracket) return false;\n",
    "        }\n",
    "    }\n",
    "    \n",
    "    return stack.length === 0;\n",
    "};"
   ]
  },
  {
   "cell_type": "markdown",
   "id": "c4999814",
   "metadata": {},
   "source": [
    "## Min Stack\n",
    "\n",
    "* https://leetcode.com/problems/min-stack/\n",
    "***\n",
    "* Time Complexity of getMin(): O(1)\n",
    "    - we keep track of the the most recent minimum to the oldest minimum so all we have to do is return the last item in the min stack which is O(1)\n",
    "* Space Complexity: O(n)\n",
    "    - since we add elements into the min stack, we'll have at most O(n) elements since if the elements are in descending order, you'll be adding all elements into the stack\n",
    "***\n",
    "* like with the Valid Parentheses problem, we want to look at the current minimum but also the minimums that were added BEFORE as well\n",
    "    - this is b/c if you pop the latest minimum from the stack, then you'll be able to know the minimum that was added before it\n",
    "    - so if you added -2, 0, -3 and popped -3, the latest minimum is -2.\n",
    "    - using just 1 variable to keep track of it would not work!"
   ]
  },
  {
   "cell_type": "code",
   "execution_count": 8,
   "id": "11475337",
   "metadata": {},
   "outputs": [
    {
     "data": {
      "text/plain": [
       "[Function (anonymous)]"
      ]
     },
     "execution_count": 8,
     "metadata": {},
     "output_type": "execute_result"
    }
   ],
   "source": [
    "\n",
    "var MinStack = function() {\n",
    "    this.min = [];\n",
    "    this.stack = [];\n",
    "};\n",
    "\n",
    "/** \n",
    " * @param {number} val\n",
    " * @return {void}\n",
    " */\n",
    "MinStack.prototype.push = function(val) {\n",
    "    this.stack.push(val);\n",
    "    \n",
    "    if (this.min.length === 0) {\n",
    "        this.min.push(val);\n",
    "    }\n",
    "    else if (val <= this.min[this.min.length - 1]) {\n",
    "        this.min.push(val);\n",
    "    }\n",
    "};\n",
    "\n",
    "/**\n",
    " * @return {void}\n",
    " */\n",
    "MinStack.prototype.pop = function() {\n",
    "    const retVal = this.stack.pop();\n",
    "    if (retVal === this.min[this.min.length - 1]) this.min.pop();\n",
    "    return retVal;\n",
    "};\n",
    "\n",
    "/**\n",
    " * @return {number}\n",
    " */\n",
    "MinStack.prototype.top = function() {\n",
    "    return this.stack[this.stack.length - 1]; \n",
    "};\n",
    "\n",
    "/**\n",
    " * @return {number}\n",
    " */\n",
    "MinStack.prototype.getMin = function() {\n",
    "    return this.min[this.min.length - 1];\n",
    "};\n",
    "\n",
    "/** \n",
    " * Your MinStack object will be instantiated and called as such:\n",
    " * var obj = new MinStack()\n",
    " * obj.push(val)\n",
    " * obj.pop()\n",
    " * var param_3 = obj.top()\n",
    " * var param_4 = obj.getMin()\n",
    " */"
   ]
  },
  {
   "cell_type": "markdown",
   "id": "1278ea7f",
   "metadata": {},
   "source": [
    "# Medium"
   ]
  },
  {
   "cell_type": "markdown",
   "id": "83024e6e",
   "metadata": {},
   "source": [
    "## Evaluate Reverse Polish Notation\n",
    "\n",
    "* https://leetcode.com/problems/evaluate-reverse-polish-notation/\n",
    "***\n",
    "* Time Complexity: O(n)\n",
    "    - have to iterate through the array in order to evaluate it\n",
    "    - pushing/popping from the stack is an O(1) operation\n",
    "* Space Complexity: O(1)\n",
    "    - you'll have at most 2 items in the stack b/c if you reach an operator, those 2 items will be popped out of the stack and its result will be pushed in\n",
    "***\n",
    "* READ IT FROM LEFT TO RIGHT\n",
    "* IF IT'S A NUMBER, PUSH IT TO THE STACK\n",
    "* ELSE, WE POP 2 NUMBERS FROM THE STACK B/C WE NEED 2 OPERANDS FOR AN OPERATOR TO WORK\n",
    "* THEN WE PUSH THAT RESULT BACK INTO THE STACK"
   ]
  },
  {
   "cell_type": "code",
   "execution_count": 1,
   "id": "02cc5afd",
   "metadata": {},
   "outputs": [],
   "source": [
    "/**\n",
    " * @param {string[]} tokens\n",
    " * @return {number}\n",
    " */\n",
    "\n",
    "var evalRPN = function(tokens) {\n",
    "    const operations = {\n",
    "        \"+\": function(op1, op2) {return op1 + op2},\n",
    "        \"-\": function(op1, op2) {return op1 - op2},\n",
    "        \"*\": function(op1, op2) {return op1 * op2},\n",
    "        \"/\": function(op1, op2) {return Math.trunc(op1 / op2)}\n",
    "    }\n",
    "    \n",
    "    let stack = [];\n",
    "    for (let i = 0; i < tokens.length; i++) {\n",
    "        let item = tokens[i];\n",
    "        if (operations[item] !== undefined) {\n",
    "            let op2 = stack.pop();\n",
    "            let op1 = stack.pop();\n",
    "            stack.push(operations[item](op1, op2));\n",
    "        }\n",
    "        else {\n",
    "            stack.push(Number(item));\n",
    "        }\n",
    "    }\n",
    "    \n",
    "    return stack.pop();\n",
    "}"
   ]
  },
  {
   "cell_type": "markdown",
   "id": "b4517af2",
   "metadata": {},
   "source": [
    "## Generate Parentheses\n",
    "\n",
    "* https://leetcode.com/problems/generate-parentheses/"
   ]
  },
  {
   "cell_type": "code",
   "execution_count": null,
   "id": "70688c43",
   "metadata": {},
   "outputs": [],
   "source": []
  }
 ],
 "metadata": {
  "kernelspec": {
   "display_name": "JavaScript (Node.js)",
   "language": "javascript",
   "name": "javascript"
  },
  "language_info": {
   "file_extension": ".js",
   "mimetype": "application/javascript",
   "name": "javascript",
   "version": "16.14.2"
  }
 },
 "nbformat": 4,
 "nbformat_minor": 5
}

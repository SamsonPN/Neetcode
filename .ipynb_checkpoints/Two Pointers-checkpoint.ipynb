{
 "cells": [
  {
   "cell_type": "markdown",
   "id": "fe1d59d5",
   "metadata": {},
   "source": [
    "# Easy"
   ]
  },
  {
   "cell_type": "markdown",
   "id": "855179fd",
   "metadata": {},
   "source": [
    "## Valid Palindrome\n",
    "\n",
    "* https://leetcode.com/problems/valid-palindrome/\n",
    "***\n",
    "* Time Complexity: O(n)\n",
    "    - you might have a case where both left and right pointers meet in the middle so the entire length of the string will be traversed\n",
    "* Space Complexity: O(1)\n",
    "    - since we're using pointers and not creating a copy of the array or anything, the space complexity is constant\n",
    "***\n",
    "* use 2 pointers, one at the start and one at the end and compare them both\n",
    "    - we want to continue doing this in a while loop until they meetup or cross each other\n",
    "    - increment the start and decrement the end\n",
    "* it is IMPERATIVE that we have a check to make sure that when we increment/decrement the pointers that they do not go out of bound"
   ]
  },
  {
   "cell_type": "code",
   "execution_count": null,
   "id": "bbcc9650",
   "metadata": {},
   "outputs": [],
   "source": [
    "/**\n",
    " * @param {string} s\n",
    " * @return {boolean}\n",
    " */\n",
    "var isPalindrome = function(s) {\n",
    "    if (s.length === 0 || s.length === 1) return true;\n",
    "    \n",
    "    let start = 0;\n",
    "    let end = s.length - 1;\n",
    "    const regex = /[a-z0-9]/gi;\n",
    "    \n",
    "    while (end > start) {\n",
    "        while (!s[start].match(regex) && start < end) {\n",
    "            start++;\n",
    "        }\n",
    "        while (!s[end].match(regex) && end > start) {\n",
    "            end--;\n",
    "        }\n",
    "        if (s[start].toLowerCase() !== s[end].toLowerCase()) return false;\n",
    "        \n",
    "        start++;\n",
    "        end--;\n",
    "    }\n",
    "    \n",
    "    return true;\n",
    "};"
   ]
  },
  {
   "cell_type": "markdown",
   "id": "6921b8a8",
   "metadata": {},
   "source": [
    "# Medium"
   ]
  },
  {
   "cell_type": "markdown",
   "id": "cf905e21",
   "metadata": {},
   "source": [
    "## Two Sum II\n",
    "\n",
    "* https://leetcode.com/problems/two-sum-ii-input-array-is-sorted/\n",
    "***\n",
    "* Time Complexity: O(n)\n",
    "    - you have left and right pointers that you'll increment and decrement until they cross so on average, you'll visit a good portion of the array\n",
    "* Space Complexity: O(1)\n",
    "    - only pointers are used which are just O(1)\n",
    "***\n",
    "* WHEN ANYTHING IS __SORTED__ YOU HAVE THE OPTION OF USING BINARY SEARCH OR USING TWO POINTERS\n",
    "* in this case, we made use of 2 pointers b/c of the sorted nature\n",
    "    - if our target < right pointer, we know that increasing the left pointer WILL NOT yield a smaller value. this is b/c going up the array will only have the values increase\n",
    "    - if our target > left pointer, we know that decreasing the right pointer WILL NOT yield a bigger value. this is b/c going down the array will only have the values decrease\n",
    "    - so using that, we can increment left or decrement right until we get 2 numbers that add to our target"
   ]
  },
  {
   "cell_type": "code",
   "execution_count": 1,
   "id": "5f578085",
   "metadata": {},
   "outputs": [],
   "source": [
    "/**\n",
    " * @param {number[]} numbers\n",
    " * @param {number} target\n",
    " * @return {number[]}\n",
    " */\n",
    "var twoSum = function(numbers, target) {\n",
    "    let left = 0;\n",
    "    let right = numbers.length - 1;\n",
    "    \n",
    "    while (left < right) {\n",
    "        let currentSum = numbers[left] + numbers[right];\n",
    "        if (currentSum === target) {\n",
    "            return [left + 1, right + 1];\n",
    "        }\n",
    "        else if (currentSum < target) {\n",
    "            left++;\n",
    "        }\n",
    "        else {\n",
    "            right--;\n",
    "        }\n",
    "    }\n",
    "};"
   ]
  },
  {
   "cell_type": "code",
   "execution_count": null,
   "id": "c9a85ed4",
   "metadata": {},
   "outputs": [],
   "source": []
  }
 ],
 "metadata": {
  "kernelspec": {
   "display_name": "JavaScript (Node.js)",
   "language": "javascript",
   "name": "javascript"
  },
  "language_info": {
   "file_extension": ".js",
   "mimetype": "application/javascript",
   "name": "javascript",
   "version": "16.14.2"
  }
 },
 "nbformat": 4,
 "nbformat_minor": 5
}

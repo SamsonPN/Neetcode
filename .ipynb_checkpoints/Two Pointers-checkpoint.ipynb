{
 "cells": [
  {
   "cell_type": "markdown",
   "id": "855179fd",
   "metadata": {},
   "source": [
    "## Valid Palindrome\n",
    "\n",
    "* https://leetcode.com/problems/valid-palindrome/\n",
    "***\n",
    "* Time Complexity: O(n)\n",
    "    - you might have a case where both left and right pointers meet in the middle so the entire length of the string will be traversed\n",
    "* Space Complexity: O(1)\n",
    "    - since we're using pointers and not creating a copy of the array or anything, the space complexity is constant\n",
    "***\n",
    "* use 2 pointers, one at the start and one at the end and compare them both\n",
    "    - we want to continue doing this in a while loop until they meetup or cross each other\n",
    "    - increment the start and decrement the end\n",
    "* it is IMPERATIVE that we have a check to make sure that when we increment/decrement the pointers that they do not go out of bound"
   ]
  },
  {
   "cell_type": "code",
   "execution_count": null,
   "id": "bbcc9650",
   "metadata": {},
   "outputs": [],
   "source": [
    "/**\n",
    " * @param {string} s\n",
    " * @return {boolean}\n",
    " */\n",
    "var isPalindrome = function(s) {\n",
    "    if (s.length === 0 || s.length === 1) return true;\n",
    "    \n",
    "    let start = 0;\n",
    "    let end = s.length - 1;\n",
    "    const regex = /[a-z0-9]/gi;\n",
    "    \n",
    "    while (end > start) {\n",
    "        while (!s[start].match(regex) && start < end) {\n",
    "            start++;\n",
    "        }\n",
    "        while (!s[end].match(regex) && end > start) {\n",
    "            end--;\n",
    "        }\n",
    "        if (s[start].toLowerCase() !== s[end].toLowerCase()) return false;\n",
    "        \n",
    "        start++;\n",
    "        end--;\n",
    "    }\n",
    "    \n",
    "    return true;\n",
    "};"
   ]
  },
  {
   "cell_type": "code",
   "execution_count": null,
   "id": "161d3675",
   "metadata": {},
   "outputs": [],
   "source": []
  },
  {
   "cell_type": "code",
   "execution_count": null,
   "id": "0c786f96",
   "metadata": {},
   "outputs": [],
   "source": []
  },
  {
   "cell_type": "code",
   "execution_count": null,
   "id": "5f578085",
   "metadata": {},
   "outputs": [],
   "source": []
  },
  {
   "cell_type": "code",
   "execution_count": null,
   "id": "c9a85ed4",
   "metadata": {},
   "outputs": [],
   "source": []
  }
 ],
 "metadata": {
  "kernelspec": {
   "display_name": "JavaScript (Node.js)",
   "language": "javascript",
   "name": "javascript"
  },
  "language_info": {
   "file_extension": ".js",
   "mimetype": "application/javascript",
   "name": "javascript",
   "version": "16.14.2"
  }
 },
 "nbformat": 4,
 "nbformat_minor": 5
}

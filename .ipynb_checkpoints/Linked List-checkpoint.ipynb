{
 "cells": [
  {
   "cell_type": "markdown",
   "id": "1be413fe",
   "metadata": {},
   "source": [
    "## Reverse Linked List\n",
    "\n",
    "* https://leetcode.com/problems/reverse-linked-list/\n",
    "***\n",
    "* Time Complexity: O(n) for both iterative and recursive\n",
    "    - since you need to reverse the entire list, you're going to have to traverse the entire list\n",
    "* Space Complexity: O(1) for iterative and O(n) for recursive\n",
    "    - iterative uses 3 pointers\n",
    "    - recursive uses a stack implicitly so there'll be O(n) function calls\n",
    "***\n",
    "* use 3 pointers: prev, current, and next\n",
    "    - next saves the next node b/c we'll be updating current.next = prev;\n",
    "    - then move all the pointers up until current is null\n",
    "    - once current is null, we know that the list ended and prev should hold the last node in the linked list"
   ]
  },
  {
   "cell_type": "code",
   "execution_count": 1,
   "id": "519646b8",
   "metadata": {},
   "outputs": [],
   "source": [
    "/**\n",
    " * Definition for singly-linked list.\n",
    " * function ListNode(val, next) {\n",
    " *     this.val = (val===undefined ? 0 : val)\n",
    " *     this.next = (next===undefined ? null : next)\n",
    " * }\n",
    " */\n",
    "/**\n",
    " * @param {ListNode} head\n",
    " * @return {ListNode}\n",
    " */\n",
    "var reverseList = function(head) {\n",
    "    if (head === null) return null;\n",
    "    if (head.next === null) return head;\n",
    "    \n",
    "    let current = head;\n",
    "    let prev = null;\n",
    "    let next;\n",
    "    \n",
    "    while (current !== null) {\n",
    "        next = current.next;\n",
    "        current.next = prev;\n",
    "        prev = current;\n",
    "        current = next;\n",
    "    }\n",
    "    \n",
    "    return prev;\n",
    "};\n",
    "\n",
    "var reverseListRecursive = function(head) {\n",
    "    if (head === null) return null;\n",
    "    if (head.next === null) return head;\n",
    "    \n",
    "    const traverse = (current, prev) => {\n",
    "        // base case\n",
    "        if (current === null) {\n",
    "            return prev;\n",
    "        }\n",
    "        let following = current.next;\n",
    "        current.next = prev;\n",
    "        return traverse(following, current);\n",
    "    }\n",
    "    \n",
    "    return traverse(head, null);\n",
    "}"
   ]
  },
  {
   "cell_type": "code",
   "execution_count": null,
   "id": "cbaf04b0",
   "metadata": {},
   "outputs": [],
   "source": []
  }
 ],
 "metadata": {
  "kernelspec": {
   "display_name": "JavaScript (Node.js)",
   "language": "javascript",
   "name": "javascript"
  },
  "language_info": {
   "file_extension": ".js",
   "mimetype": "application/javascript",
   "name": "javascript",
   "version": "16.14.2"
  }
 },
 "nbformat": 4,
 "nbformat_minor": 5
}

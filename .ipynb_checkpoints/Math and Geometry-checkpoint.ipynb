{
 "cells": [
  {
   "cell_type": "markdown",
   "id": "868a71ab",
   "metadata": {},
   "source": [
    "# Easy"
   ]
  },
  {
   "cell_type": "code",
   "execution_count": null,
   "id": "76190d38",
   "metadata": {},
   "outputs": [],
   "source": []
  },
  {
   "cell_type": "markdown",
   "id": "9574626a",
   "metadata": {},
   "source": [
    "# Medium"
   ]
  },
  {
   "cell_type": "markdown",
   "id": "f4686fc9",
   "metadata": {},
   "source": [
    "## Rotate Image\n",
    "\n",
    "* https://leetcode.com/problems/rotate-image/description/\n",
    "***\n",
    "* Time Complexity: O(n$^{2}$)\n",
    "    - you're traversing around half of the matrix which is (n * n) / 2\n",
    "* Space Complexity: O(1)\n",
    "    - only requires space for a couple of variables\n",
    "***\n",
    "* we can think of this like peeling an onion layer by layer\n",
    "* we start off with the outermost layer and work in until we reach the halfway point\n",
    "    - reason being, if we go any further, we would've already rotated those indices and it would return an incorrect answer\n",
    "* we also rotate starting from the bottom-left first\n",
    "    - if we start rotating from the top-left, we would have to keep reassigning a temp variable\n",
    "    - but if we start from the bottom-left, we would only need a temp variable for the top-left\n",
    "        * this is a slight optimization\n",
    "* in order to rotate, we have to do 2 things:\n",
    "    1. we switch the current column and row. so row = column and column = row\n",
    "    2. we then calculate a new column using the old row\n",
    "        * n - r - 1\n",
    "        * this represents how much the cell is offset from one of the corners\n",
    "            - e.g. how offset from top-left corner, top-right corner, bottom-right corner, and bottom-left corner respectively"
   ]
  },
  {
   "cell_type": "code",
   "execution_count": 1,
   "id": "e70645cd",
   "metadata": {},
   "outputs": [],
   "source": [
    "/**\n",
    " * @param {number[][]} matrix\n",
    " * @return {void} Do not return anything, modify matrix in-place instead.\n",
    " */\n",
    "\n",
    "const rotatePos = (n, r, c) => {\n",
    "    // n - r - 1 represents how much to offset from one of the corners\n",
    "    // so if we have [0, 1], we would rotate to [1, 2]\n",
    "    // [0, 1] is one position away from [0,0], the top-left corner\n",
    "    // so if we rotate it 90 degrees, [1,2] is 1 position away from [0,2], which is the top-right corner\n",
    "    return [c, n - r - 1];\n",
    "}\n",
    "\n",
    "var rotate = function(matrix) {\n",
    "    const n = matrix.length;\n",
    "\n",
    "    // don't have to rotate anything\n",
    "    if (n === 1) return;\n",
    "\n",
    "    // you only care about the top half of the rows\n",
    "    // this is b/c by the time you reach the 2nd half, the matrix is already rotated there\n",
    "    for (let r = 0; r < ((n - 1) / 2); r++) {\n",
    "        \n",
    "        // think of it like the layers of an onion\n",
    "        // if you rotated the outer layer of an onion first\n",
    "        // you only care about the inner layers now\n",
    "        // in this case, n - r - 1 accounts for the outer layers that you've already seen\n",
    "        // e.g. if you started at layer 1, which is at r = 0, c: range(0, n)\n",
    "        // then when you look at layer 2, you look at r = 1, c: range(1, n - 0 - 1);\n",
    "        for (let c = r; c < n - r - 1; c++) {\n",
    "            let temp = matrix[r][c];\n",
    "            let [rR, cR] = rotatePos(n ,r, c);\n",
    "            let [rB, cB] = rotatePos(n, rR, cR);\n",
    "            let [rL, cL] = rotatePos(n, rB, cB);\n",
    "\n",
    "            // starts rotating from bottom-left to top-left\n",
    "            // this is so that only 1 temp variable is needed rather than having to reassign it\n",
    "            // multiple times\n",
    "            matrix[r][c] = matrix[rL][cL];\n",
    "            matrix[rL][cL] = matrix[rB][cB];\n",
    "            matrix[rB][cB] = matrix[rR][cR];\n",
    "            matrix[rR][cR] = temp;\n",
    "        }\n",
    "    }\n",
    "};"
   ]
  },
  {
   "cell_type": "code",
   "execution_count": null,
   "id": "866edc38",
   "metadata": {},
   "outputs": [],
   "source": []
  }
 ],
 "metadata": {
  "kernelspec": {
   "display_name": "JavaScript (Node.js)",
   "language": "javascript",
   "name": "javascript"
  },
  "language_info": {
   "file_extension": ".js",
   "mimetype": "application/javascript",
   "name": "javascript",
   "version": "16.14.2"
  }
 },
 "nbformat": 4,
 "nbformat_minor": 5
}

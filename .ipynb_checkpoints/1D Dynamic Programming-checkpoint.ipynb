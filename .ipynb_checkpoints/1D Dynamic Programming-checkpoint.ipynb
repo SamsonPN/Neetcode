{
 "cells": [
  {
   "cell_type": "markdown",
   "id": "c338ceed",
   "metadata": {},
   "source": [
    "## Climbing Stairs\n",
    "\n",
    "* https://leetcode.com/problems/climbing-stairs/\n",
    "***\n",
    "* Time Complexity:\n",
    "    - naive solution: O(2$^{n}$)\n",
    "        * for every step, you're looking at climbingStairs(step - 1) and climbStairs(step - 2) to calculate the answer\n",
    "        * the solution doesn't keep track of things we already calculated so even for easy solutions like climbingStairs(3), we'd still have to calculate it again\n",
    "        * this leads to 2$^{n}$ nodes in the recursion tree\n",
    "    - top-down memoized dp: O(n)\n",
    "        * any previously calculated values are already stored in the memo hash table\n",
    "        * so you'll only have to each a calculation for each value of n once\n",
    "        * therefore it is O(n)\n",
    "    - bottom-up dp: O(n)\n",
    "        * our for loop here only iterates until n so it is O(n)\n",
    "* Space Complexity:\n",
    "    - naive solution: O(n)\n",
    "        * you don't calculate step - 1 and step - 2 in parallel so any calls to step - 1 are completed first before step - 2\n",
    "        * at most, you'll have n function calls b/c if you calculated step - 1 for step = 3, you'll have 3 function calls to make and you'll never exceed that if you calculated step - 2\n",
    "    - top-down memoized solution: O(n)\n",
    "        - the memo table will have at most O(n) items in it and since you're still using recursion, you won't have more than O(n) function calls since it'll return quickly if the steps are in the table\n",
    "    - bottom-up dp: O(1)\n",
    "        - you don't use recursion and you only keep track of 2 variables"
   ]
  },
  {
   "cell_type": "code",
   "execution_count": null,
   "id": "5fdc3442",
   "metadata": {},
   "outputs": [],
   "source": [
    "/**\n",
    " * @param {number} n\n",
    " * @return {number}\n",
    " */\n",
    "\n",
    "// naive solution\n",
    "var climbStairs = function(n) {\n",
    "    // base case\n",
    "    // 0 ways to climb 0 steps, 1 way to climb 1 step\n",
    "    if (n <= 2) return n;\n",
    "    \n",
    "    return climbStairs(n - 1) + climbStairs(n - 2);\n",
    "}\n",
    "\n",
    "// top-down memoized dp\n",
    "var climbStairs = function(n) {\n",
    "    if (n <= 2) return n;\n",
    "    \n",
    "    const memo = {\n",
    "        0: 0,\n",
    "        1: 1,\n",
    "        2: 2\n",
    "    };\n",
    "    \n",
    "    const traverse = (steps) => {\n",
    "        if (steps < 0) return 0;\n",
    "        \n",
    "        else if (memo[steps] !== undefined) {\n",
    "            return memo[steps];\n",
    "        }\n",
    "        \n",
    "        memo[steps] = traverse(steps - 1) + traverse(steps - 2);\n",
    "        \n",
    "        return memo[steps];\n",
    "    }\n",
    "    return traverse(n);\n",
    "};\n",
    "\n",
    "// bottom-up dp\n",
    "var climbStairs = function(n) {\n",
    "    if (n <= 2) return n;\n",
    "    \n",
    "    let last1 = 2;\n",
    "    let last2 = 1;\n",
    "    \n",
    "    for (let i = 2; i < n; i++) {\n",
    "        [last1, last2] = [last1 + last2, last1];\n",
    "    }\n",
    "    \n",
    "    return last1;\n",
    "}"
   ]
  },
  {
   "cell_type": "markdown",
   "id": "6a6db4a7",
   "metadata": {},
   "source": [
    "## Min Cost Climbing Stairs\n",
    "\n",
    "* "
   ]
  },
  {
   "cell_type": "code",
   "execution_count": null,
   "id": "3fab5548",
   "metadata": {},
   "outputs": [],
   "source": []
  },
  {
   "cell_type": "code",
   "execution_count": null,
   "id": "9e61dc65",
   "metadata": {},
   "outputs": [],
   "source": []
  },
  {
   "cell_type": "code",
   "execution_count": null,
   "id": "21c91ae2",
   "metadata": {},
   "outputs": [],
   "source": []
  },
  {
   "cell_type": "code",
   "execution_count": null,
   "id": "ce55a56e",
   "metadata": {},
   "outputs": [],
   "source": []
  },
  {
   "cell_type": "code",
   "execution_count": null,
   "id": "bf47b9f2",
   "metadata": {},
   "outputs": [],
   "source": []
  },
  {
   "cell_type": "code",
   "execution_count": null,
   "id": "6c00ee2f",
   "metadata": {},
   "outputs": [],
   "source": []
  }
 ],
 "metadata": {
  "kernelspec": {
   "display_name": "JavaScript (Node.js)",
   "language": "javascript",
   "name": "javascript"
  },
  "language_info": {
   "file_extension": ".js",
   "mimetype": "application/javascript",
   "name": "javascript",
   "version": "16.14.2"
  }
 },
 "nbformat": 4,
 "nbformat_minor": 5
}

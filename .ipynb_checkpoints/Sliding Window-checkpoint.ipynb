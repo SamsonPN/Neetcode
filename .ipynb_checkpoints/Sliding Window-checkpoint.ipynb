{
 "cells": [
  {
   "cell_type": "markdown",
   "id": "c3efb478",
   "metadata": {},
   "source": [
    "## Best Time to Buy & Sell Stock\n",
    "\n",
    "* https://leetcode.com/problems/best-time-to-buy-and-sell-stock/\n",
    "***\n",
    "* Time Complexity: O(n)\n",
    "    - we're basically checking the combinations from left to right of the array so no matter the input size, we'll always check the entire array\n",
    "* Space Complexity: O(1)\n",
    "    - just using 2 pointers so it's constant space for any input size\n",
    "***\n",
    "* basically use 2 pointers, one start, and one ahead of it.\n",
    "    - if our profit goes in the negative, we update start to be equal to to end b/c end is smaller than start\n",
    "    - else we just update the end pointer without touching start until we find something more profitable\n",
    "* use good ol' Math.max() again"
   ]
  },
  {
   "cell_type": "code",
   "execution_count": 2,
   "id": "40c9c124",
   "metadata": {},
   "outputs": [],
   "source": [
    "/**\n",
    " * @param {number[]} prices\n",
    " * @return {number}\n",
    " */\n",
    "var maxProfit = function(prices) {\n",
    "    if (prices.length === 1) return 0;\n",
    "    \n",
    "    let maxProfit = 0;\n",
    "    let start = 0;\n",
    "    let end = start + 1;\n",
    "    \n",
    "    while (end < prices.length) {\n",
    "        let newMax = prices[end] - prices[start];\n",
    "        \n",
    "        if (newMax < 0) {\n",
    "            start = end;\n",
    "            end = start + 1;\n",
    "        }\n",
    "        else {\n",
    "            maxProfit = Math.max(maxProfit, newMax);\n",
    "            end++;\n",
    "        }\n",
    "    }\n",
    "    \n",
    "    return maxProfit;\n",
    "};"
   ]
  },
  {
   "cell_type": "code",
   "execution_count": null,
   "id": "226a24e2",
   "metadata": {},
   "outputs": [],
   "source": []
  }
 ],
 "metadata": {
  "kernelspec": {
   "display_name": "JavaScript (Node.js)",
   "language": "javascript",
   "name": "javascript"
  },
  "language_info": {
   "file_extension": ".js",
   "mimetype": "application/javascript",
   "name": "javascript",
   "version": "16.14.2"
  }
 },
 "nbformat": 4,
 "nbformat_minor": 5
}

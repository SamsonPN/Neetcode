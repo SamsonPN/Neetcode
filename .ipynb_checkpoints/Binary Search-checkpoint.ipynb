{
 "cells": [
  {
   "cell_type": "markdown",
   "id": "ba6b0c4e",
   "metadata": {},
   "source": [
    "## Binary Search\n",
    "\n",
    "* https://leetcode.com/problems/binary-search/\n",
    "***\n",
    "* Time Complexity: O(log n)\n",
    "    - finding the midpoint is O(1)\n",
    "    - every time we call binary search, we essentially cut the array in half. so after 2 calls, we are only looking at 1/4th of the original array\n",
    "* Space Complexity: O(1)\n",
    "    - disregarding the implicit stack used for recursion, we don't really keep anything in memory besides one midpoint variable\n",
    "    - however, if we did count the stack, it'd probably be around O(log n) calls. so if there are 6 numbers in an array log base 2 of 6 ~= 2.5\n",
    "***\n",
    "* any time you want to search for an item in a SORTED ARRAY, the first thing you should think about is binary search\n",
    "* start = 0, end = length of arr - 1 (easier that way)\n",
    "* mid = start + (end - start) / 2. rounded down. just use Math.trunc()\n",
    "* if the 2 pointers cross (end < start), THEN we should return -1 or false or something\n",
    "* for the iterative, you always want to have the condition be: end >= start\n",
    "* Algorithm:\n",
    "    - if arr[mid] === target, return\n",
    "    - if target < arr[mid], search from 0 --> mid - 1\n",
    "    - if target > arr[mid], search from mid + 1 ---> arr.length - 1"
   ]
  },
  {
   "cell_type": "code",
   "execution_count": 1,
   "id": "0904264c",
   "metadata": {},
   "outputs": [],
   "source": [
    "/**\n",
    " * @param {number[]} nums\n",
    " * @param {number} target\n",
    " * @return {number}\n",
    " */\n",
    "var search = function(nums, target) {\n",
    "    if (nums.length === 1) {\n",
    "        return nums[0] === target ? 0 : -1;\n",
    "    }\n",
    "    \n",
    "    const traverse = (start, end) => {\n",
    "        if (end < start) return -1;\n",
    "        \n",
    "        const mid = Math.trunc(start + ((end - start) / 2));\n",
    "\n",
    "        if (target === nums[mid]) {\n",
    "            return mid;\n",
    "        }\n",
    "        else if (target < nums[mid]) {\n",
    "            return traverse(0, mid - 1);\n",
    "        }\n",
    "        else {\n",
    "            return traverse(mid + 1, end);\n",
    "        }\n",
    "    }\n",
    "    \n",
    "    return traverse(0, nums.length - 1);\n",
    "};"
   ]
  },
  {
   "cell_type": "code",
   "execution_count": null,
   "id": "545848a2",
   "metadata": {},
   "outputs": [],
   "source": []
  },
  {
   "cell_type": "code",
   "execution_count": null,
   "id": "5bdf860b",
   "metadata": {},
   "outputs": [],
   "source": []
  },
  {
   "cell_type": "code",
   "execution_count": null,
   "id": "442b2c8f",
   "metadata": {},
   "outputs": [],
   "source": []
  },
  {
   "cell_type": "code",
   "execution_count": null,
   "id": "760fb427",
   "metadata": {},
   "outputs": [],
   "source": []
  }
 ],
 "metadata": {
  "kernelspec": {
   "display_name": "JavaScript (Node.js)",
   "language": "javascript",
   "name": "javascript"
  },
  "language_info": {
   "file_extension": ".js",
   "mimetype": "application/javascript",
   "name": "javascript",
   "version": "16.14.2"
  }
 },
 "nbformat": 4,
 "nbformat_minor": 5
}
